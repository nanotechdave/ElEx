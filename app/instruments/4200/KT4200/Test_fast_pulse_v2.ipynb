{
 "cells": [
  {
   "cell_type": "code",
   "execution_count": 22,
   "metadata": {},
   "outputs": [],
   "source": [
    "import matplotlib.pyplot as plt\n",
    "from Instruments import Keithley4200\n",
    "import os"
   ]
  },
  {
   "cell_type": "code",
   "execution_count": 23,
   "metadata": {},
   "outputs": [
    {
     "name": "stdout",
     "output_type": "stream",
     "text": [
      "Keithley4200 session opened at address TCPIP0::10.60.5.103::1225::SOCKET\n"
     ]
    }
   ],
   "source": [
    "KT4200 = Keithley4200(address = \"TCPIP0::10.60.5.103::1225::SOCKET\")\n",
    "KT4200.InstInit()\n",
    "\n",
    "KT4200.sample = \"TestFastPulse\"         # Sample name\n",
    "KT4200.cell = 'Test'           # Measured cell\n",
    "KT4200.savepath = \"Test\"       # Folder name (automatically created if not existing)\n",
    "KT4200.lab = 'INRiM4200'       # Lab and instrument of measurement execution\n",
    "KT4200.script = 'Test_fast_pulse_v2'"
   ]
  },
  {
   "cell_type": "code",
   "execution_count": 24,
   "metadata": {},
   "outputs": [],
   "source": [
    "inp = '10,0.2,10,0.2,1,1E6,1E6,5000,21,100.0000E-9;100.0000E-9;10.0000E-6;100.0000E-9;50.0000E-6;100.0000E-9;10.0000E-6;100.0000E-9;50.0000E-6;100.0000E-9;10.0000E-6;100.0000E-9;50.0000E-6;100.0000E-9;10.0000E-6;100.0000E-9;50.0000E-6;100.0000E-9;10.0000E-6;100.0000E-9;100.0000E-9,21,000.0000E-3;000.0000E-3;500.0000E-3;500.0000E-3;000.0000E-3;000.0000E-3;1.0000E+0;1.0000E+0;000.0000E-3;000.0000E-3;1.5000E+0;1.5000E+0;000.0000E-3;000.0000E-3;2.0000E+0;2.0000E+0;000.0000E-3;000.0000E-3;2.5000E+0;2.5000E+0;000.0000E-3,21,000.0000E-3;500.0000E-3;500.0000E-3;000.0000E-3;000.0000E-3;1.0000E+0;1.0000E+0;000.0000E-3;000.0000E-3;1.5000E+0;1.5000E+0;000.0000E-3;000.0000E-3;2.0000E+0;2.0000E+0;000.0000E-3;000.0000E-3;2.5000E+0;2.5000E+0;000.0000E-3;000.0000E-3,21,000.0000E-3;000.0000E-3;2.5000E+0;2.5000E+0;000.0000E-3;000.0000E-3;2.0000E+0;2.0000E+0;000.0000E-3;000.0000E-3;1.5000E+0;1.5000E+0;000.0000E-3;000.0000E-3;1.0000E+0;1.0000E+0;000.0000E-3;000.0000E-3;500.0000E-3;500.0000E-3;000.0000E-3,21,000.0000E-3;2.5000E+0;2.5000E+0;000.0000E-3;000.0000E-3;2.0000E+0;2.0000E+0;000.0000E-3;000.0000E-3;1.5000E+0;1.5000E+0;000.0000E-3;000.0000E-3;1.0000E+0;1.0000E+0;000.0000E-3;000.0000E-3;500.0000E-3;500.0000E-3;000.0000E-3;000.0000E-3,21,1;1;1;1;1;1;1;1;1;1;1;1;1;1;1;1;1;1;1;1;1,21,1;1;1;1;1;1;1;1;1;1;1;1;1;1;1;1;1;1;1;1;1,21,1;0;1;0;0;0;1;0;0;0;1;0;0;0;1;0;0;0;1;0;0,21,0,0.01,0.01,,PMU1,,16000,,16000,,16000,,16000,,16000,,16000,,16000'\n",
    "KT4200.sendCommand(f\"UL\")\n",
    "KT4200.sendCommand(f\"EX PMU_examples_ulib PMU_SegArb_Example({inp})\")\n",
    "\n",
    "\n",
    "\n",
    "#KT4200.sendCommand(\"EX PMU_PIVA_Sweep PMU_PIV_SMU_Pulse_Waveform(3e-07,4e-08,4e-08,1e-07,3e-07,4e-08,4e-08,1e-07,1e-06 0.85,0.95,1,5,0,0,0,10,0.01,40,0.8,3000,0.2,1,10,1,1,SMU4, PMU1,,3000,,3000,,3000,,3000,,3000,,3000,,100,,100,,1,,1,,1,,1,,3000,,3000 )\")"
   ]
  },
  {
   "cell_type": "code",
   "execution_count": 25,
   "metadata": {},
   "outputs": [],
   "source": [
    "KT4200.sendCommand(\"GN VMeasCh1 10000\")\n",
    "#KT4200.sendCommand(\"GN IMeasCh1 10000\")\n",
    "#KT4200.sendCommand(\"GN TimeOutput 10000\")"
   ]
  }
 ],
 "metadata": {
  "kernelspec": {
   "display_name": "Python 3",
   "language": "python",
   "name": "python3"
  },
  "language_info": {
   "codemirror_mode": {
    "name": "ipython",
    "version": 3
   },
   "file_extension": ".py",
   "mimetype": "text/x-python",
   "name": "python",
   "nbconvert_exporter": "python",
   "pygments_lexer": "ipython3",
   "version": "3.13.2"
  }
 },
 "nbformat": 4,
 "nbformat_minor": 2
}
